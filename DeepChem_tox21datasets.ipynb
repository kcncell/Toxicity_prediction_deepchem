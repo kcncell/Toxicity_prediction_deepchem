{
 "cells": [
  {
   "cell_type": "markdown",
   "id": "a1831f95",
   "metadata": {},
   "source": [
    "#Deepchem: A library for life sciences, biochemistry and chemistry\n",
    "#\"Deep Learning for the life sciences\" by B. Ramsundar, P. Eastman, P. Walters, & V. Pande\n",
    "#Toxicity datasets"
   ]
  },
  {
   "cell_type": "code",
   "execution_count": 1,
   "id": "0804e3f2",
   "metadata": {},
   "outputs": [
    {
     "name": "stderr",
     "output_type": "stream",
     "text": [
      "Skipped loading modules with pytorch-geometric dependency, missing a dependency. No module named 'torch_geometric'\n",
      "Skipped loading modules with pytorch-geometric dependency, missing a dependency. cannot import name 'DMPNN' from 'deepchem.models.torch_models' (/Users/pradyu/opt/miniconda3/envs/tf/lib/python3.10/site-packages/deepchem/models/torch_models/__init__.py)\n",
      "Skipped loading modules with pytorch-lightning dependency, missing a dependency. No module named 'pytorch_lightning'\n",
      "Skipped loading some Jax models, missing a dependency. No module named 'jax'\n"
     ]
    }
   ],
   "source": [
    "import deepchem as dc\n",
    "import numpy as np"
   ]
  },
  {
   "cell_type": "code",
   "execution_count": 2,
   "id": "d423393b",
   "metadata": {},
   "outputs": [],
   "source": [
    "tasks, datasets, transformers = dc.molnet.load_tox21()"
   ]
  },
  {
   "cell_type": "code",
   "execution_count": 5,
   "id": "e5655ed4",
   "metadata": {},
   "outputs": [
    {
     "data": {
      "text/plain": [
       "['NR-AR',\n",
       " 'NR-AR-LBD',\n",
       " 'NR-AhR',\n",
       " 'NR-Aromatase',\n",
       " 'NR-ER',\n",
       " 'NR-ER-LBD',\n",
       " 'NR-PPAR-gamma',\n",
       " 'SR-ARE',\n",
       " 'SR-ATAD5',\n",
       " 'SR-HSE',\n",
       " 'SR-MMP',\n",
       " 'SR-p53']"
      ]
     },
     "execution_count": 5,
     "metadata": {},
     "output_type": "execute_result"
    }
   ],
   "source": [
    "tasks"
   ]
  },
  {
   "cell_type": "code",
   "execution_count": 6,
   "id": "8a1fecbe",
   "metadata": {},
   "outputs": [],
   "source": [
    "train_ds, valid_ds, test_ds = datasets"
   ]
  },
  {
   "cell_type": "code",
   "execution_count": 7,
   "id": "31910309",
   "metadata": {},
   "outputs": [
    {
     "name": "stdout",
     "output_type": "stream",
     "text": [
      "(6264, 1024)\n",
      "(6264, 12)\n",
      "(6264, 12)\n"
     ]
    }
   ],
   "source": [
    "print(train_ds.X.shape)\n",
    "print(train_ds.y.shape)\n",
    "print(train_ds.w.shape)"
   ]
  },
  {
   "cell_type": "code",
   "execution_count": 8,
   "id": "ad28bd3e",
   "metadata": {},
   "outputs": [
    {
     "data": {
      "text/plain": [
       "63647"
      ]
     },
     "execution_count": 8,
     "metadata": {},
     "output_type": "execute_result"
    }
   ],
   "source": [
    "np.count_nonzero(train_ds.w)"
   ]
  },
  {
   "cell_type": "code",
   "execution_count": 9,
   "id": "475720be",
   "metadata": {},
   "outputs": [
    {
     "data": {
      "text/plain": [
       "75168"
      ]
     },
     "execution_count": 9,
     "metadata": {},
     "output_type": "execute_result"
    }
   ],
   "source": [
    "6264 *12"
   ]
  },
  {
   "cell_type": "code",
   "execution_count": 10,
   "id": "bf10ca7d",
   "metadata": {},
   "outputs": [
    {
     "data": {
      "text/plain": [
       "[<deepchem.trans.transformers.BalancingTransformer at 0x28ecb5cf0>]"
      ]
     },
     "execution_count": 10,
     "metadata": {},
     "output_type": "execute_result"
    }
   ],
   "source": [
    "transformers"
   ]
  },
  {
   "cell_type": "code",
   "execution_count": 11,
   "id": "9903bb7a",
   "metadata": {},
   "outputs": [
    {
     "name": "stdout",
     "output_type": "stream",
     "text": [
      "(784, 1024)\n",
      "(784, 12)\n",
      "(784, 12)\n"
     ]
    }
   ],
   "source": [
    "print(test_ds.X.shape)\n",
    "print(test_ds.y.shape)\n",
    "print(test_ds.w.shape)"
   ]
  },
  {
   "cell_type": "code",
   "execution_count": 12,
   "id": "3438d823",
   "metadata": {},
   "outputs": [],
   "source": [
    "model = dc.models.MultitaskClassifier(n_tasks=12, n_features=1024, layer_sizes=[1500])"
   ]
  },
  {
   "cell_type": "code",
   "execution_count": 13,
   "id": "8fd383da",
   "metadata": {},
   "outputs": [
    {
     "data": {
      "text/plain": [
       "0.47770620981852213"
      ]
     },
     "execution_count": 13,
     "metadata": {},
     "output_type": "execute_result"
    }
   ],
   "source": [
    "model.fit(train_ds, nb_epoch=10)"
   ]
  },
  {
   "cell_type": "code",
   "execution_count": 14,
   "id": "f5a5466e",
   "metadata": {},
   "outputs": [],
   "source": [
    "metrics = dc.metrics.Metric(dc.metrics.roc_auc_score, np.mean)"
   ]
  },
  {
   "cell_type": "code",
   "execution_count": 15,
   "id": "ce645b56",
   "metadata": {},
   "outputs": [
    {
     "name": "stdout",
     "output_type": "stream",
     "text": [
      "{'mean-roc_auc_score': 0.9594567165712037}\n"
     ]
    }
   ],
   "source": [
    "train_score = model.evaluate(train_ds, [metrics], transformers)\n",
    "print(train_score)"
   ]
  },
  {
   "cell_type": "code",
   "execution_count": 16,
   "id": "4eba64c6",
   "metadata": {},
   "outputs": [
    {
     "name": "stdout",
     "output_type": "stream",
     "text": [
      "{'mean-roc_auc_score': 0.6808416165676697}\n"
     ]
    }
   ],
   "source": [
    "test_score = model.evaluate(test_ds, [metrics], transformers)\n",
    "print(test_score)"
   ]
  },
  {
   "cell_type": "code",
   "execution_count": null,
   "id": "e48239c4",
   "metadata": {},
   "outputs": [],
   "source": []
  }
 ],
 "metadata": {
  "kernelspec": {
   "display_name": "Python 3 (ipykernel)",
   "language": "python",
   "name": "python3"
  },
  "language_info": {
   "codemirror_mode": {
    "name": "ipython",
    "version": 3
   },
   "file_extension": ".py",
   "mimetype": "text/x-python",
   "name": "python",
   "nbconvert_exporter": "python",
   "pygments_lexer": "ipython3",
   "version": "3.10.8"
  }
 },
 "nbformat": 4,
 "nbformat_minor": 5
}
